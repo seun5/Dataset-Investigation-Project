{
 "cells": [
  {
   "cell_type": "markdown",
   "metadata": {},
   "source": [
    "            \n",
    "# Project: the Movie Database(TMDb) Investigation project\n",
    " \n",
    "## Table of Contents\n",
    "<ul>\n",
    "<li><a href=\"#intro\">Introduction</a></li>\n",
    "    \n",
    "<li><a href=\"#wrangling\">Data Wrangling</a></li>\n",
    "    <ul>\n",
    "        <li><a href=\"#Gen_Prop\">General Properties</a></li>\n",
    "        <li><a href=\"#Data_Clean\">Initial Data Cleaning</a></li>\n",
    "    </ul>     \n",
    "<li><a href=\"#eda\">Exploratory Data Analysis</a></li>\n",
    "    <ul>\n",
    "        <li><a href=\"#Question_1\">Question 1</a></li>\n",
    "        <li><a href=\"#Question_2\">Question 2</a></li>\n",
    "        <li><a href=\"#Question_3\">Question 3</a></li>\n",
    "        <li><a href=\"#Question_4\">Question 4</a></li> \n",
    "    </ul>     \n",
    "<li><a href=\"#conclusions\">Conclusions</a></li>\n",
    "</ul>\n",
    "\n",
    "<a id='intro'></a>\n",
    "## Introduction\n",
    "\n",
    "For this project, we will be investigating the TMDb dataset provided by Udacity and Kaggle. This dataset was chosen because of my interest in movies and I wanted to take on a challenge that would help me further understand the Python data packages. I will be observing how the movie industry changed over the years, the most successful directors in the industry, and see what genres are most common in the industry.\n",
    "\n",
    "We will first start off by importing the packages that we will be using throughout the project."
   ]
  },
  {
   "cell_type": "code",
   "execution_count": 1,
   "metadata": {},
   "outputs": [],
   "source": [
    "import pandas as pd\n",
    "import numpy as np\n",
    "import matplotlib.pyplot as plt\n",
    "import seaborn as sns\n",
    "% matplotlib inline\n"
   ]
  },
  {
   "cell_type": "markdown",
   "metadata": {},
   "source": [
    "<a id='wrangling'></a>\n",
    "## Data Wrangling\n",
    "\n",
    "> **Tip**: In this section of the report, you will load in the data, check for cleanliness, and then trim and clean your dataset for analysis. Make sure that you document your steps carefully and justify your cleaning decisions.\n",
    "\n",
    "<a id='Gen_Prop'></a>\n",
    "### General Properties \n",
    "\n",
    "We are going to start off by loading our data into a dataframe. We will print out a few values that inspect the datatypes and characteristics of the data"
   ]
  },
  {
   "cell_type": "code",
   "execution_count": 2,
   "metadata": {},
   "outputs": [
    {
     "data": {
      "text/html": [
       "<div>\n",
       "<style scoped>\n",
       "    .dataframe tbody tr th:only-of-type {\n",
       "        vertical-align: middle;\n",
       "    }\n",
       "\n",
       "    .dataframe tbody tr th {\n",
       "        vertical-align: top;\n",
       "    }\n",
       "\n",
       "    .dataframe thead th {\n",
       "        text-align: right;\n",
       "    }\n",
       "</style>\n",
       "<table border=\"1\" class=\"dataframe\">\n",
       "  <thead>\n",
       "    <tr style=\"text-align: right;\">\n",
       "      <th></th>\n",
       "      <th>id</th>\n",
       "      <th>imdb_id</th>\n",
       "      <th>popularity</th>\n",
       "      <th>budget</th>\n",
       "      <th>revenue</th>\n",
       "      <th>original_title</th>\n",
       "      <th>cast</th>\n",
       "      <th>homepage</th>\n",
       "      <th>director</th>\n",
       "      <th>tagline</th>\n",
       "      <th>...</th>\n",
       "      <th>overview</th>\n",
       "      <th>runtime</th>\n",
       "      <th>genres</th>\n",
       "      <th>production_companies</th>\n",
       "      <th>release_date</th>\n",
       "      <th>vote_count</th>\n",
       "      <th>vote_average</th>\n",
       "      <th>release_year</th>\n",
       "      <th>budget_adj</th>\n",
       "      <th>revenue_adj</th>\n",
       "    </tr>\n",
       "  </thead>\n",
       "  <tbody>\n",
       "    <tr>\n",
       "      <th>0</th>\n",
       "      <td>135397</td>\n",
       "      <td>tt0369610</td>\n",
       "      <td>32.985763</td>\n",
       "      <td>150000000</td>\n",
       "      <td>1513528810</td>\n",
       "      <td>Jurassic World</td>\n",
       "      <td>Chris Pratt|Bryce Dallas Howard|Irrfan Khan|Vi...</td>\n",
       "      <td>http://www.jurassicworld.com/</td>\n",
       "      <td>Colin Trevorrow</td>\n",
       "      <td>The park is open.</td>\n",
       "      <td>...</td>\n",
       "      <td>Twenty-two years after the events of Jurassic ...</td>\n",
       "      <td>124</td>\n",
       "      <td>Action|Adventure|Science Fiction|Thriller</td>\n",
       "      <td>Universal Studios|Amblin Entertainment|Legenda...</td>\n",
       "      <td>6/9/15</td>\n",
       "      <td>5562</td>\n",
       "      <td>6.5</td>\n",
       "      <td>2015</td>\n",
       "      <td>1.379999e+08</td>\n",
       "      <td>1.392446e+09</td>\n",
       "    </tr>\n",
       "    <tr>\n",
       "      <th>1</th>\n",
       "      <td>76341</td>\n",
       "      <td>tt1392190</td>\n",
       "      <td>28.419936</td>\n",
       "      <td>150000000</td>\n",
       "      <td>378436354</td>\n",
       "      <td>Mad Max: Fury Road</td>\n",
       "      <td>Tom Hardy|Charlize Theron|Hugh Keays-Byrne|Nic...</td>\n",
       "      <td>http://www.madmaxmovie.com/</td>\n",
       "      <td>George Miller</td>\n",
       "      <td>What a Lovely Day.</td>\n",
       "      <td>...</td>\n",
       "      <td>An apocalyptic story set in the furthest reach...</td>\n",
       "      <td>120</td>\n",
       "      <td>Action|Adventure|Science Fiction|Thriller</td>\n",
       "      <td>Village Roadshow Pictures|Kennedy Miller Produ...</td>\n",
       "      <td>5/13/15</td>\n",
       "      <td>6185</td>\n",
       "      <td>7.1</td>\n",
       "      <td>2015</td>\n",
       "      <td>1.379999e+08</td>\n",
       "      <td>3.481613e+08</td>\n",
       "    </tr>\n",
       "    <tr>\n",
       "      <th>2</th>\n",
       "      <td>262500</td>\n",
       "      <td>tt2908446</td>\n",
       "      <td>13.112507</td>\n",
       "      <td>110000000</td>\n",
       "      <td>295238201</td>\n",
       "      <td>Insurgent</td>\n",
       "      <td>Shailene Woodley|Theo James|Kate Winslet|Ansel...</td>\n",
       "      <td>http://www.thedivergentseries.movie/#insurgent</td>\n",
       "      <td>Robert Schwentke</td>\n",
       "      <td>One Choice Can Destroy You</td>\n",
       "      <td>...</td>\n",
       "      <td>Beatrice Prior must confront her inner demons ...</td>\n",
       "      <td>119</td>\n",
       "      <td>Adventure|Science Fiction|Thriller</td>\n",
       "      <td>Summit Entertainment|Mandeville Films|Red Wago...</td>\n",
       "      <td>3/18/15</td>\n",
       "      <td>2480</td>\n",
       "      <td>6.3</td>\n",
       "      <td>2015</td>\n",
       "      <td>1.012000e+08</td>\n",
       "      <td>2.716190e+08</td>\n",
       "    </tr>\n",
       "  </tbody>\n",
       "</table>\n",
       "<p>3 rows × 21 columns</p>\n",
       "</div>"
      ],
      "text/plain": [
       "       id    imdb_id  popularity     budget     revenue      original_title  \\\n",
       "0  135397  tt0369610   32.985763  150000000  1513528810      Jurassic World   \n",
       "1   76341  tt1392190   28.419936  150000000   378436354  Mad Max: Fury Road   \n",
       "2  262500  tt2908446   13.112507  110000000   295238201           Insurgent   \n",
       "\n",
       "                                                cast  \\\n",
       "0  Chris Pratt|Bryce Dallas Howard|Irrfan Khan|Vi...   \n",
       "1  Tom Hardy|Charlize Theron|Hugh Keays-Byrne|Nic...   \n",
       "2  Shailene Woodley|Theo James|Kate Winslet|Ansel...   \n",
       "\n",
       "                                         homepage          director  \\\n",
       "0                   http://www.jurassicworld.com/   Colin Trevorrow   \n",
       "1                     http://www.madmaxmovie.com/     George Miller   \n",
       "2  http://www.thedivergentseries.movie/#insurgent  Robert Schwentke   \n",
       "\n",
       "                      tagline      ...       \\\n",
       "0           The park is open.      ...        \n",
       "1          What a Lovely Day.      ...        \n",
       "2  One Choice Can Destroy You      ...        \n",
       "\n",
       "                                            overview runtime  \\\n",
       "0  Twenty-two years after the events of Jurassic ...     124   \n",
       "1  An apocalyptic story set in the furthest reach...     120   \n",
       "2  Beatrice Prior must confront her inner demons ...     119   \n",
       "\n",
       "                                      genres  \\\n",
       "0  Action|Adventure|Science Fiction|Thriller   \n",
       "1  Action|Adventure|Science Fiction|Thriller   \n",
       "2         Adventure|Science Fiction|Thriller   \n",
       "\n",
       "                                production_companies release_date vote_count  \\\n",
       "0  Universal Studios|Amblin Entertainment|Legenda...       6/9/15       5562   \n",
       "1  Village Roadshow Pictures|Kennedy Miller Produ...      5/13/15       6185   \n",
       "2  Summit Entertainment|Mandeville Films|Red Wago...      3/18/15       2480   \n",
       "\n",
       "   vote_average  release_year    budget_adj   revenue_adj  \n",
       "0           6.5          2015  1.379999e+08  1.392446e+09  \n",
       "1           7.1          2015  1.379999e+08  3.481613e+08  \n",
       "2           6.3          2015  1.012000e+08  2.716190e+08  \n",
       "\n",
       "[3 rows x 21 columns]"
      ]
     },
     "execution_count": 2,
     "metadata": {},
     "output_type": "execute_result"
    }
   ],
   "source": [
    "# Load your data and print out a few lines. Perform operations to inspect data\n",
    "#   types and look for instances of missing or possibly errant data.\n",
    "df =pd.read_csv('tmdb-movies.csv', encoding = \"UTF-8\")\n",
    "df.head(3)"
   ]
  },
  {
   "cell_type": "code",
   "execution_count": 3,
   "metadata": {},
   "outputs": [
    {
     "data": {
      "text/html": [
       "<div>\n",
       "<style scoped>\n",
       "    .dataframe tbody tr th:only-of-type {\n",
       "        vertical-align: middle;\n",
       "    }\n",
       "\n",
       "    .dataframe tbody tr th {\n",
       "        vertical-align: top;\n",
       "    }\n",
       "\n",
       "    .dataframe thead th {\n",
       "        text-align: right;\n",
       "    }\n",
       "</style>\n",
       "<table border=\"1\" class=\"dataframe\">\n",
       "  <thead>\n",
       "    <tr style=\"text-align: right;\">\n",
       "      <th></th>\n",
       "      <th>id</th>\n",
       "      <th>popularity</th>\n",
       "      <th>budget</th>\n",
       "      <th>revenue</th>\n",
       "      <th>runtime</th>\n",
       "      <th>vote_count</th>\n",
       "      <th>vote_average</th>\n",
       "      <th>release_year</th>\n",
       "      <th>budget_adj</th>\n",
       "      <th>revenue_adj</th>\n",
       "    </tr>\n",
       "  </thead>\n",
       "  <tbody>\n",
       "    <tr>\n",
       "      <th>count</th>\n",
       "      <td>10866.000000</td>\n",
       "      <td>10866.000000</td>\n",
       "      <td>1.086600e+04</td>\n",
       "      <td>1.086600e+04</td>\n",
       "      <td>10866.000000</td>\n",
       "      <td>10866.000000</td>\n",
       "      <td>10866.000000</td>\n",
       "      <td>10866.000000</td>\n",
       "      <td>1.086600e+04</td>\n",
       "      <td>1.086600e+04</td>\n",
       "    </tr>\n",
       "    <tr>\n",
       "      <th>mean</th>\n",
       "      <td>66064.177434</td>\n",
       "      <td>0.646441</td>\n",
       "      <td>1.462570e+07</td>\n",
       "      <td>3.982332e+07</td>\n",
       "      <td>102.070863</td>\n",
       "      <td>217.389748</td>\n",
       "      <td>5.974922</td>\n",
       "      <td>2001.322658</td>\n",
       "      <td>1.755104e+07</td>\n",
       "      <td>5.136436e+07</td>\n",
       "    </tr>\n",
       "    <tr>\n",
       "      <th>std</th>\n",
       "      <td>92130.136561</td>\n",
       "      <td>1.000185</td>\n",
       "      <td>3.091321e+07</td>\n",
       "      <td>1.170035e+08</td>\n",
       "      <td>31.381405</td>\n",
       "      <td>575.619058</td>\n",
       "      <td>0.935142</td>\n",
       "      <td>12.812941</td>\n",
       "      <td>3.430616e+07</td>\n",
       "      <td>1.446325e+08</td>\n",
       "    </tr>\n",
       "    <tr>\n",
       "      <th>min</th>\n",
       "      <td>5.000000</td>\n",
       "      <td>0.000065</td>\n",
       "      <td>0.000000e+00</td>\n",
       "      <td>0.000000e+00</td>\n",
       "      <td>0.000000</td>\n",
       "      <td>10.000000</td>\n",
       "      <td>1.500000</td>\n",
       "      <td>1960.000000</td>\n",
       "      <td>0.000000e+00</td>\n",
       "      <td>0.000000e+00</td>\n",
       "    </tr>\n",
       "    <tr>\n",
       "      <th>25%</th>\n",
       "      <td>10596.250000</td>\n",
       "      <td>0.207583</td>\n",
       "      <td>0.000000e+00</td>\n",
       "      <td>0.000000e+00</td>\n",
       "      <td>90.000000</td>\n",
       "      <td>17.000000</td>\n",
       "      <td>5.400000</td>\n",
       "      <td>1995.000000</td>\n",
       "      <td>0.000000e+00</td>\n",
       "      <td>0.000000e+00</td>\n",
       "    </tr>\n",
       "    <tr>\n",
       "      <th>50%</th>\n",
       "      <td>20669.000000</td>\n",
       "      <td>0.383856</td>\n",
       "      <td>0.000000e+00</td>\n",
       "      <td>0.000000e+00</td>\n",
       "      <td>99.000000</td>\n",
       "      <td>38.000000</td>\n",
       "      <td>6.000000</td>\n",
       "      <td>2006.000000</td>\n",
       "      <td>0.000000e+00</td>\n",
       "      <td>0.000000e+00</td>\n",
       "    </tr>\n",
       "    <tr>\n",
       "      <th>75%</th>\n",
       "      <td>75610.000000</td>\n",
       "      <td>0.713817</td>\n",
       "      <td>1.500000e+07</td>\n",
       "      <td>2.400000e+07</td>\n",
       "      <td>111.000000</td>\n",
       "      <td>145.750000</td>\n",
       "      <td>6.600000</td>\n",
       "      <td>2011.000000</td>\n",
       "      <td>2.085325e+07</td>\n",
       "      <td>3.369710e+07</td>\n",
       "    </tr>\n",
       "    <tr>\n",
       "      <th>max</th>\n",
       "      <td>417859.000000</td>\n",
       "      <td>32.985763</td>\n",
       "      <td>4.250000e+08</td>\n",
       "      <td>2.781506e+09</td>\n",
       "      <td>900.000000</td>\n",
       "      <td>9767.000000</td>\n",
       "      <td>9.200000</td>\n",
       "      <td>2015.000000</td>\n",
       "      <td>4.250000e+08</td>\n",
       "      <td>2.827124e+09</td>\n",
       "    </tr>\n",
       "  </tbody>\n",
       "</table>\n",
       "</div>"
      ],
      "text/plain": [
       "                  id    popularity        budget       revenue       runtime  \\\n",
       "count   10866.000000  10866.000000  1.086600e+04  1.086600e+04  10866.000000   \n",
       "mean    66064.177434      0.646441  1.462570e+07  3.982332e+07    102.070863   \n",
       "std     92130.136561      1.000185  3.091321e+07  1.170035e+08     31.381405   \n",
       "min         5.000000      0.000065  0.000000e+00  0.000000e+00      0.000000   \n",
       "25%     10596.250000      0.207583  0.000000e+00  0.000000e+00     90.000000   \n",
       "50%     20669.000000      0.383856  0.000000e+00  0.000000e+00     99.000000   \n",
       "75%     75610.000000      0.713817  1.500000e+07  2.400000e+07    111.000000   \n",
       "max    417859.000000     32.985763  4.250000e+08  2.781506e+09    900.000000   \n",
       "\n",
       "         vote_count  vote_average  release_year    budget_adj   revenue_adj  \n",
       "count  10866.000000  10866.000000  10866.000000  1.086600e+04  1.086600e+04  \n",
       "mean     217.389748      5.974922   2001.322658  1.755104e+07  5.136436e+07  \n",
       "std      575.619058      0.935142     12.812941  3.430616e+07  1.446325e+08  \n",
       "min       10.000000      1.500000   1960.000000  0.000000e+00  0.000000e+00  \n",
       "25%       17.000000      5.400000   1995.000000  0.000000e+00  0.000000e+00  \n",
       "50%       38.000000      6.000000   2006.000000  0.000000e+00  0.000000e+00  \n",
       "75%      145.750000      6.600000   2011.000000  2.085325e+07  3.369710e+07  \n",
       "max     9767.000000      9.200000   2015.000000  4.250000e+08  2.827124e+09  "
      ]
     },
     "execution_count": 3,
     "metadata": {},
     "output_type": "execute_result"
    }
   ],
   "source": [
    "df.describe()"
   ]
  },
  {
   "cell_type": "markdown",
   "metadata": {},
   "source": [
    "The column titles seem to be self-explanatory. However, the popularity index seemed to be an index that TMDb has generated with their calculation. Going through the TMDb support page, I found an answer from their forum. \n",
    "\n",
    "Popularity is a value that gets updated daily and takes a number of things into account like views, number of user ratings/watchlist/favourite additions and release date.\n",
    "\n",
    "<cite>Elizabeth Jennings- https://www.themoviedb.org/talk/56e614a2c3a3685aa4008121?language=en</cite>\n",
    "\n",
    "In order to confirm that answer, I generated an correlation matrix and observed its characteristics through an heat map."
   ]
  },
  {
   "cell_type": "code",
   "execution_count": 4,
   "metadata": {},
   "outputs": [
    {
     "data": {
      "image/png": "[encoded data removed]",
      "text/plain": [
       "<matplotlib.figure.Figure at 0x10f220908>"
      ]
     },
     "metadata": {},
     "output_type": "display_data"
    }
   ],
   "source": [
    "corr =df.corr()\n",
    "correlation_matrix =sns.heatmap(corr, xticklabels=corr.columns.values,yticklabels=corr.columns.values)\n"
   ]
  },
  {
   "cell_type": "markdown",
   "metadata": {},
   "source": [
    "- We confirmed popularity being uncorrelated from metrics such as time(release date, release_year) and runtime. \n",
    "- Revenue is more correlated than budget, so we can assume that the movie's success is also important.\n",
    "- Vote_count is the most closely correlated value. \n",
    "\n",
    "<a id='Data_Clean'></a>\n",
    "### Data Cleaning \n",
    "\n",
    "We can see from a glance a few characteristics about this dataset. \n",
    "- Special Characters: We have characters '|' that are meant to split the values into multiple values in columns 'cast', 'genre', and 'title'.\n",
    "- Null values: As the database contains modern information such as websites, there are null values for the older movies.\n",
    "- Different Datatypes: The columns that are meant to be an equivalent of another such as 'revenue' and 'revenue_adj' are not in the same datatype.\n",
    "\n",
    "#### Removal of Unused Columns\n",
    "We will do a preliminary removal of the data columns that we will not be using throughout the dataset investigation."
   ]
  },
  {
   "cell_type": "code",
   "execution_count": 5,
   "metadata": {},
   "outputs": [],
   "source": [
    "# As we will not be using the imdb_id, homepage, keywords, and taglines, we will drop these values.\n",
    "df.drop(['homepage', 'keywords', 'tagline', 'imdb_id', 'production_companies', 'overview', 'runtime'], axis=1, inplace=True)"
   ]
  },
  {
   "cell_type": "markdown",
   "metadata": {},
   "source": [
    "#### Check Duplicates and remove them\n",
    "We are expect every value in the dataframe to have a unique id. So we will check duplicates in column id and remove them."
   ]
  },
  {
   "cell_type": "code",
   "execution_count": 6,
   "metadata": {},
   "outputs": [
    {
     "data": {
      "text/html": [
       "<div>\n",
       "<style scoped>\n",
       "    .dataframe tbody tr th:only-of-type {\n",
       "        vertical-align: middle;\n",
       "    }\n",
       "\n",
       "    .dataframe tbody tr th {\n",
       "        vertical-align: top;\n",
       "    }\n",
       "\n",
       "    .dataframe thead th {\n",
       "        text-align: right;\n",
       "    }\n",
       "</style>\n",
       "<table border=\"1\" class=\"dataframe\">\n",
       "  <thead>\n",
       "    <tr style=\"text-align: right;\">\n",
       "      <th></th>\n",
       "      <th>id</th>\n",
       "      <th>popularity</th>\n",
       "      <th>budget</th>\n",
       "      <th>revenue</th>\n",
       "      <th>original_title</th>\n",
       "      <th>cast</th>\n",
       "      <th>director</th>\n",
       "      <th>genres</th>\n",
       "      <th>release_date</th>\n",
       "      <th>vote_count</th>\n",
       "      <th>vote_average</th>\n",
       "      <th>release_year</th>\n",
       "      <th>budget_adj</th>\n",
       "      <th>revenue_adj</th>\n",
       "    </tr>\n",
       "  </thead>\n",
       "  <tbody>\n",
       "    <tr>\n",
       "      <th>2089</th>\n",
       "      <td>42194</td>\n",
       "      <td>0.59643</td>\n",
       "      <td>30000000</td>\n",
       "      <td>967000</td>\n",
       "      <td>TEKKEN</td>\n",
       "      <td>Jon Foo|Kelly Overton|Cary-Hiroyuki Tagawa|Ian...</td>\n",
       "      <td>Dwight H. Little</td>\n",
       "      <td>Crime|Drama|Action|Thriller|Science Fiction</td>\n",
       "      <td>3/20/10</td>\n",
       "      <td>110</td>\n",
       "      <td>5.0</td>\n",
       "      <td>2010</td>\n",
       "      <td>30000000.0</td>\n",
       "      <td>967000.0</td>\n",
       "    </tr>\n",
       "    <tr>\n",
       "      <th>2090</th>\n",
       "      <td>42194</td>\n",
       "      <td>0.59643</td>\n",
       "      <td>30000000</td>\n",
       "      <td>967000</td>\n",
       "      <td>TEKKEN</td>\n",
       "      <td>Jon Foo|Kelly Overton|Cary-Hiroyuki Tagawa|Ian...</td>\n",
       "      <td>Dwight H. Little</td>\n",
       "      <td>Crime|Drama|Action|Thriller|Science Fiction</td>\n",
       "      <td>3/20/10</td>\n",
       "      <td>110</td>\n",
       "      <td>5.0</td>\n",
       "      <td>2010</td>\n",
       "      <td>30000000.0</td>\n",
       "      <td>967000.0</td>\n",
       "    </tr>\n",
       "  </tbody>\n",
       "</table>\n",
       "</div>"
      ],
      "text/plain": [
       "         id  popularity    budget  revenue original_title  \\\n",
       "2089  42194     0.59643  30000000   967000         TEKKEN   \n",
       "2090  42194     0.59643  30000000   967000         TEKKEN   \n",
       "\n",
       "                                                   cast          director  \\\n",
       "2089  Jon Foo|Kelly Overton|Cary-Hiroyuki Tagawa|Ian...  Dwight H. Little   \n",
       "2090  Jon Foo|Kelly Overton|Cary-Hiroyuki Tagawa|Ian...  Dwight H. Little   \n",
       "\n",
       "                                           genres release_date  vote_count  \\\n",
       "2089  Crime|Drama|Action|Thriller|Science Fiction      3/20/10         110   \n",
       "2090  Crime|Drama|Action|Thriller|Science Fiction      3/20/10         110   \n",
       "\n",
       "      vote_average  release_year  budget_adj  revenue_adj  \n",
       "2089           5.0          2010  30000000.0     967000.0  \n",
       "2090           5.0          2010  30000000.0     967000.0  "
      ]
     },
     "execution_count": 6,
     "metadata": {},
     "output_type": "execute_result"
    }
   ],
   "source": [
    "df[df.duplicated(['id'],keep=False)]"
   ]
  },
  {
   "cell_type": "markdown",
   "metadata": {},
   "source": [
    "Check if the duplicates are successfully dropped from the database"
   ]
  },
  {
   "cell_type": "code",
   "execution_count": 7,
   "metadata": {},
   "outputs": [
    {
     "data": {
      "text/html": [
       "<div>\n",
       "<style scoped>\n",
       "    .dataframe tbody tr th:only-of-type {\n",
       "        vertical-align: middle;\n",
       "    }\n",
       "\n",
       "    .dataframe tbody tr th {\n",
       "        vertical-align: top;\n",
       "    }\n",
       "\n",
       "    .dataframe thead th {\n",
       "        text-align: right;\n",
       "    }\n",
       "</style>\n",
       "<table border=\"1\" class=\"dataframe\">\n",
       "  <thead>\n",
       "    <tr style=\"text-align: right;\">\n",
       "      <th></th>\n",
       "      <th>id</th>\n",
       "      <th>popularity</th>\n",
       "      <th>budget</th>\n",
       "      <th>revenue</th>\n",
       "      <th>original_title</th>\n",
       "      <th>cast</th>\n",
       "      <th>director</th>\n",
       "      <th>genres</th>\n",
       "      <th>release_date</th>\n",
       "      <th>vote_count</th>\n",
       "      <th>vote_average</th>\n",
       "      <th>release_year</th>\n",
       "      <th>budget_adj</th>\n",
       "      <th>revenue_adj</th>\n",
       "    </tr>\n",
       "  </thead>\n",
       "  <tbody>\n",
       "  </tbody>\n",
       "</table>\n",
       "</div>"
      ],
      "text/plain": [
       "Empty DataFrame\n",
       "Columns: [id, popularity, budget, revenue, original_title, cast, director, genres, release_date, vote_count, vote_average, release_year, budget_adj, revenue_adj]\n",
       "Index: []"
      ]
     },
     "execution_count": 7,
     "metadata": {},
     "output_type": "execute_result"
    }
   ],
   "source": [
    "df.drop_duplicates(['id'],inplace = True)\n",
    "df[df.duplicated(['id'],keep=False)]"
   ]
  },
  {
   "cell_type": "markdown",
   "metadata": {},
   "source": [
    "We do not have any duplicates in our dataset now.\n",
    "\n",
    "### Data Cleaning - Change Datatype\n",
    "We will change the datatype of the float values into integer values for cleaner representation.\n"
   ]
  },
  {
   "cell_type": "code",
   "execution_count": 8,
   "metadata": {},
   "outputs": [],
   "source": [
    "# Since budget and revenue were in integer values, we will change the adjusted values to the datatype to integers\n",
    "df['budget_adj'] = df['budget_adj'].astype(int)\n",
    "df['revenue_adj'] = df['revenue_adj'].astype(int)\n"
   ]
  },
  {
   "cell_type": "markdown",
   "metadata": {},
   "source": [
    "<a id='eda'></a>\n",
    "\n",
    "## Explanatory Data Analysis \n",
    "### Question 1 - Top Grossing Movie Title Each Year\n",
    "\n",
    "<a id='Question_1'></a>\n",
    "#### Data Preparation\n",
    "Now we will answer our questions about this dataset. We are going to start out by observing success of movies in perspective of time. We want to find the top grossing movie each year, so we will do additional data cleaning from the general dataframe we created in the previous section. "
   ]
  },
  {
   "cell_type": "code",
   "execution_count": 9,
   "metadata": {},
   "outputs": [
    {
     "data": {
      "text/html": [
       "<div>\n",
       "<style scoped>\n",
       "    .dataframe tbody tr th:only-of-type {\n",
       "        vertical-align: middle;\n",
       "    }\n",
       "\n",
       "    .dataframe tbody tr th {\n",
       "        vertical-align: top;\n",
       "    }\n",
       "\n",
       "    .dataframe thead th {\n",
       "        text-align: right;\n",
       "    }\n",
       "</style>\n",
       "<table border=\"1\" class=\"dataframe\">\n",
       "  <thead>\n",
       "    <tr style=\"text-align: right;\">\n",
       "      <th></th>\n",
       "      <th>budget</th>\n",
       "      <th>revenue</th>\n",
       "      <th>original_title</th>\n",
       "      <th>genres</th>\n",
       "      <th>release_year</th>\n",
       "      <th>budget_adj</th>\n",
       "      <th>revenue_adj</th>\n",
       "    </tr>\n",
       "  </thead>\n",
       "  <tbody>\n",
       "    <tr>\n",
       "      <th>10143</th>\n",
       "      <td>12000000</td>\n",
       "      <td>60000000</td>\n",
       "      <td>Spartacus</td>\n",
       "      <td>Action|Drama|History</td>\n",
       "      <td>1960</td>\n",
       "      <td>88475609</td>\n",
       "      <td>442378047</td>\n",
       "    </tr>\n",
       "    <tr>\n",
       "      <th>10110</th>\n",
       "      <td>4000000</td>\n",
       "      <td>215880014</td>\n",
       "      <td>One Hundred and One Dalmatians</td>\n",
       "      <td>Adventure|Animation|Comedy|Family</td>\n",
       "      <td>1961</td>\n",
       "      <td>29179444</td>\n",
       "      <td>1574814739</td>\n",
       "    </tr>\n",
       "    <tr>\n",
       "      <th>9850</th>\n",
       "      <td>15000000</td>\n",
       "      <td>70000000</td>\n",
       "      <td>Lawrence of Arabia</td>\n",
       "      <td>Adventure|Drama|History|War</td>\n",
       "      <td>1962</td>\n",
       "      <td>108126733</td>\n",
       "      <td>504591421</td>\n",
       "    </tr>\n",
       "    <tr>\n",
       "      <th>10438</th>\n",
       "      <td>2500000</td>\n",
       "      <td>78898765</td>\n",
       "      <td>From Russia With Love</td>\n",
       "      <td>Action|Thriller|Adventure</td>\n",
       "      <td>1963</td>\n",
       "      <td>17800448</td>\n",
       "      <td>561773358</td>\n",
       "    </tr>\n",
       "    <tr>\n",
       "      <th>9881</th>\n",
       "      <td>3500000</td>\n",
       "      <td>124900000</td>\n",
       "      <td>Goldfinger</td>\n",
       "      <td>Adventure|Action|Thriller</td>\n",
       "      <td>1964</td>\n",
       "      <td>24605935</td>\n",
       "      <td>878080399</td>\n",
       "    </tr>\n",
       "  </tbody>\n",
       "</table>\n",
       "</div>"
      ],
      "text/plain": [
       "         budget    revenue                  original_title  \\\n",
       "10143  12000000   60000000                       Spartacus   \n",
       "10110   4000000  215880014  One Hundred and One Dalmatians   \n",
       "9850   15000000   70000000              Lawrence of Arabia   \n",
       "10438   2500000   78898765           From Russia With Love   \n",
       "9881    3500000  124900000                      Goldfinger   \n",
       "\n",
       "                                  genres  release_year  budget_adj  \\\n",
       "10143               Action|Drama|History          1960    88475609   \n",
       "10110  Adventure|Animation|Comedy|Family          1961    29179444   \n",
       "9850         Adventure|Drama|History|War          1962   108126733   \n",
       "10438          Action|Thriller|Adventure          1963    17800448   \n",
       "9881           Adventure|Action|Thriller          1964    24605935   \n",
       "\n",
       "       revenue_adj  \n",
       "10143    442378047  \n",
       "10110   1574814739  \n",
       "9850     504591421  \n",
       "10438    561773358  \n",
       "9881     878080399  "
      ]
     },
     "execution_count": 9,
     "metadata": {},
     "output_type": "execute_result"
    }
   ],
   "source": [
    "# We will create a copy of our dataframe for actors count. We will remove actors with null data in our analysis for this study. \n",
    "df2 = df.copy()\n",
    "df2.drop(['id','release_date', 'director', 'cast', 'vote_count', 'vote_average','popularity' ], axis=1, inplace=True)\n",
    "df2 = df2.sort_values('release_year')\n",
    "max_rev_adj = df2.groupby(['release_year'])['revenue_adj'].transform(max) == df2['revenue_adj']\n",
    "max_rev = df2.groupby(['release_year'])['revenue'].transform(max) == df2['revenue']\n",
    "df2[max_rev_adj].head()"
   ]
  },
  {
   "cell_type": "markdown",
   "metadata": {},
   "source": [
    "We found the top grossing titles for each year using a group_by function in terms of revenue and adjusted revenue. We will now prepare our data for visualization to see where the biggest success in movies happened throughout the years."
   ]
  },
  {
   "cell_type": "code",
   "execution_count": 10,
   "metadata": {},
   "outputs": [],
   "source": [
    "# We will save our data in lists for presentation\n",
    "x_year = []\n",
    "y_revenue = []\n",
    "y_revenue_adj = []\n",
    "for x in range(1960,2016):\n",
    "    x_year.append(x)\n",
    "for y in df2[max_rev]['revenue']:\n",
    "    y_revenue.append(y)\n",
    "for y in df2[max_rev_adj]['revenue_adj']:\n",
    "    y_revenue_adj.append(y)"
   ]
  },
  {
   "cell_type": "markdown",
   "metadata": {},
   "source": [
    "#### Data Visualization\n",
    "\n",
    "We will generate bar graphs based on revenue and adjusted revenue."
   ]
  },
  {
   "cell_type": "code",
   "execution_count": 11,
   "metadata": {},
   "outputs": [
    {
     "data": {
      "text/plain": [
       "Text(0.5,1,'Revenue Adjusted, in 10 Billion, USD')"
      ]
     },
     "execution_count": 11,
     "metadata": {},
     "output_type": "execute_result"
    },
    {
     "data": {
      "image/png": "[encoded data removed]",
      "text/plain": [
       "<matplotlib.figure.Figure at 0x1a164d6eb8>"
      ]
     },
     "metadata": {},
     "output_type": "display_data"
    }
   ],
   "source": [
    "fig=plt.figure(figsize=(18,10))\n",
    "fig.suptitle(\"Top Grossing Movie Each Year\", fontsize=14)\n",
    "\n",
    "ax1 = plt.subplot(221)\n",
    "ax2 = plt.subplot(222)\n",
    "ax1.bar(x_year,y_revenue)\n",
    "ax2.bar(x_year,y_revenue_adj)\n",
    "ax1.set_title(\"Revenue, in 10 Billion, USD\")\n",
    "ax2.set_title(\"Revenue Adjusted, in 10 Billion, USD\")\n",
    "\n"
   ]
  },
  {
   "cell_type": "markdown",
   "metadata": {},
   "source": [
    "Looking at the revenue chart, we notice some noteworthy success in movies that overacheived againsts their peers in the 1990's, the 2000's, and the 2010's. From reccollection, we can assume that these movie titles are the 'Titanic', 'Avatar', and 'Star Wars: The Force Awakens'. \n",
    "\n",
    "However, if we look to the revenue adjusted to current currency, we can see that there are some noteworthy success in the 1970's that are almost par to the success of 'Avatar' as well. \n",
    "\n",
    "This leads us to our second question as we broaden our scope, what are the top grossing movie titles per decade."
   ]
  },
  {
   "cell_type": "markdown",
   "metadata": {},
   "source": [
    "<a id='Question_2'></a>\n",
    "### Question 2 - Top Grossing Movie Title Each Decade\n",
    "\n",
    "#### Data Preparation\n",
    "Since we already have a dataframe that we adjusted based on time. We will use the dataframe we used from our previous question. \n",
    "We will start off by importing a function to generate the specific decades of each movie."
   ]
  },
  {
   "cell_type": "code",
   "execution_count": 12,
   "metadata": {},
   "outputs": [],
   "source": [
    "def decade_converter(x):\n",
    "    decade = x%1960\n",
    "    if(decade < 10):\n",
    "        x= 1960\n",
    "    elif(decade < 20):\n",
    "        x= 1970\n",
    "    elif(decade < 30):\n",
    "        x= 1980\n",
    "    elif(decade < 40):\n",
    "        x= 1990\n",
    "    elif(decade < 50):\n",
    "        x= 2000\n",
    "    elif(decade < 60):\n",
    "        x= 2010\n",
    "    return x"
   ]
  },
  {
   "cell_type": "markdown",
   "metadata": {},
   "source": [
    "Using the function that we created just above, we will assign the movie decades to create a new column in our time dataframe."
   ]
  },
  {
   "cell_type": "code",
   "execution_count": 13,
   "metadata": {},
   "outputs": [],
   "source": [
    "ans = []\n",
    "for x in df2['release_year']:\n",
    "    ans.append(decade_converter(x))\n",
    "df2=df2.assign(release_decade=ans)\n",
    "max_rev_adj = df2.groupby(['release_decade'])['revenue_adj'].transform(max) == df2['revenue_adj']\n",
    "max_rev = df2.groupby(['release_decade'])['revenue'].transform(max) == df2['revenue']\n",
    "df2 = df2[max_rev]\n",
    "df2[\"movie_decade\"] = df2[\"original_title\"].map(str) + \" (\"+ df2[\"release_year\"].astype(str) + \")\""
   ]
  },
  {
   "cell_type": "markdown",
   "metadata": {},
   "source": [
    "#### Data Visualization\n",
    "\n",
    "We will now make a bar graph that will visualize the top grossing movies of each decade in terms of revenue and adjusted revenue."
   ]
  },
  {
   "cell_type": "code",
   "execution_count": 14,
   "metadata": {},
   "outputs": [
    {
     "data": {
      "text/plain": [
       "Text(0.5,0,'Revenue Adjusted (in Billions, USD)')"
      ]
     },
     "execution_count": 14,
     "metadata": {},
     "output_type": "execute_result"
    },
    {
     "data": {
      "image/png": "[encoded data removed]",
      "text/plain": [
       "<matplotlib.figure.Figure at 0x1a1ea62a90>"
      ]
     },
     "metadata": {},
     "output_type": "display_data"
    },
    {
     "data": {
      "image/png": "[encoded data removed]",
      "text/plain": [
       "<matplotlib.figure.Figure at 0x1a1f0c6320>"
      ]
     },
     "metadata": {},
     "output_type": "display_data"
    }
   ],
   "source": [
    "df2.plot(kind='barh', y= 'revenue', x='movie_decade',legend = False)\n",
    "plt.title(\"Top Grossing Movie Each Decade\")\n",
    "plt.ylabel(\"Director (Movie Count)\")\n",
    "plt.xlabel(\"Revenue (in Billions, USD)\")\n",
    "\n",
    "df2.plot(kind='barh', y= 'revenue_adj', x='movie_decade',legend = False)\n",
    "plt.ylabel(\"Director (Movie Count)\")\n",
    "plt.xlabel(\"Revenue Adjusted (in Billions, USD)\")"
   ]
  },
  {
   "cell_type": "markdown",
   "metadata": {},
   "source": [
    "Our observations from Question 1 - Data Visualization seem to be accurate. If we look at the success of movies in revenue, modern movies seem to be more noteworthy than older ones. However, if we look at movies in adjusted revenue, we can see that older movies such as Star Wars had remarkable successes as well, showing how much of a cultural sensation the movies were in their time period. \n",
    "\n",
    "<a id='Question_3'></a>\n",
    "### Question 3 - Top 10 Directors\n",
    "\n",
    "#### Data Preparation\n",
    "For this question, we will now look at the top grossing directors in the film industry. Like we did for our time-based dataframe, we will perform additional data cleaning from the general dataframe. \n"
   ]
  },
  {
   "cell_type": "code",
   "execution_count": 15,
   "metadata": {},
   "outputs": [
    {
     "data": {
      "text/html": [
       "<div>\n",
       "<style scoped>\n",
       "    .dataframe tbody tr th:only-of-type {\n",
       "        vertical-align: middle;\n",
       "    }\n",
       "\n",
       "    .dataframe tbody tr th {\n",
       "        vertical-align: top;\n",
       "    }\n",
       "\n",
       "    .dataframe thead th {\n",
       "        text-align: right;\n",
       "    }\n",
       "</style>\n",
       "<table border=\"1\" class=\"dataframe\">\n",
       "  <thead>\n",
       "    <tr style=\"text-align: right;\">\n",
       "      <th></th>\n",
       "      <th>director</th>\n",
       "      <th>popularity</th>\n",
       "      <th>revenue</th>\n",
       "      <th>revenue_adj</th>\n",
       "      <th>movie_count</th>\n",
       "      <th>vote_average</th>\n",
       "    </tr>\n",
       "  </thead>\n",
       "  <tbody>\n",
       "    <tr>\n",
       "      <th>9</th>\n",
       "      <td>Ridley Scott</td>\n",
       "      <td>7.667400</td>\n",
       "      <td>3649996480</td>\n",
       "      <td>4219565968</td>\n",
       "      <td>23</td>\n",
       "      <td>6.3</td>\n",
       "    </tr>\n",
       "    <tr>\n",
       "      <th>8</th>\n",
       "      <td>Tim Burton</td>\n",
       "      <td>5.572950</td>\n",
       "      <td>3665414624</td>\n",
       "      <td>4529285472</td>\n",
       "      <td>19</td>\n",
       "      <td>6.6</td>\n",
       "    </tr>\n",
       "    <tr>\n",
       "      <th>7</th>\n",
       "      <td>Chris Columbus</td>\n",
       "      <td>8.021423</td>\n",
       "      <td>3851491668</td>\n",
       "      <td>5094077220</td>\n",
       "      <td>14</td>\n",
       "      <td>6.6</td>\n",
       "    </tr>\n",
       "    <tr>\n",
       "      <th>6</th>\n",
       "      <td>Robert Zemeckis</td>\n",
       "      <td>6.715966</td>\n",
       "      <td>3869690869</td>\n",
       "      <td>5655648241</td>\n",
       "      <td>17</td>\n",
       "      <td>6.8</td>\n",
       "    </tr>\n",
       "    <tr>\n",
       "      <th>5</th>\n",
       "      <td>David Yates</td>\n",
       "      <td>5.711315</td>\n",
       "      <td>4154295625</td>\n",
       "      <td>4177455258</td>\n",
       "      <td>5</td>\n",
       "      <td>7.3</td>\n",
       "    </tr>\n",
       "  </tbody>\n",
       "</table>\n",
       "</div>"
      ],
      "text/plain": [
       "          director  popularity     revenue  revenue_adj  movie_count  \\\n",
       "9     Ridley Scott    7.667400  3649996480   4219565968           23   \n",
       "8       Tim Burton    5.572950  3665414624   4529285472           19   \n",
       "7   Chris Columbus    8.021423  3851491668   5094077220           14   \n",
       "6  Robert Zemeckis    6.715966  3869690869   5655648241           17   \n",
       "5      David Yates    5.711315  4154295625   4177455258            5   \n",
       "\n",
       "   vote_average  \n",
       "9           6.3  \n",
       "8           6.6  \n",
       "7           6.6  \n",
       "6           6.8  \n",
       "5           7.3  "
      ]
     },
     "execution_count": 15,
     "metadata": {},
     "output_type": "execute_result"
    }
   ],
   "source": [
    "# We will create a copy of our dataframe for directors count. \n",
    "df3 = df.copy()\n",
    "\n",
    "# We will remove directors with null data in our analysis for this study. \n",
    "df3.dropna(subset=['director'], inplace=True)\n",
    "df3 = df3.groupby('director').agg({'popularity':'max','revenue': 'sum','revenue_adj': 'sum', 'id': 'count','vote_average': 'median'})\n",
    "df3 = df3.rename(index=str, columns={\"id\": \"movie_count\"})\n",
    "\n",
    "rev_df3 = df3.sort_values('revenue', ascending = False)\n",
    "rev_df3 = rev_df3[:10]\n",
    "rev_df3 = rev_df3.reset_index().sort_values('revenue', ascending= True)\n",
    "rev_df3.head()"
   ]
  },
  {
   "cell_type": "code",
   "execution_count": 16,
   "metadata": {},
   "outputs": [],
   "source": [
    "# We are going to create a new column for the director's movie count, so that we can use that as our x-axis labels.\n",
    "rev_df3[\"director_count\"] = rev_df3[\"director\"].map(str) + \" (\"+ rev_df3[\"movie_count\"].astype(str) + \")\""
   ]
  },
  {
   "cell_type": "markdown",
   "metadata": {},
   "source": [
    "#### Data Visualization\n",
    "\n",
    "We will now make a bar graph that will visualize the top grossing directors in terms of gross revenue and adjusted revenue."
   ]
  },
  {
   "cell_type": "code",
   "execution_count": 17,
   "metadata": {},
   "outputs": [
    {
     "data": {
      "text/plain": [
       "Text(0.5,0,'Revenue Adjusted (in 10 Billions, USD)')"
      ]
     },
     "execution_count": 17,
     "metadata": {},
     "output_type": "execute_result"
    },
    {
     "data": {
      "image/png": "[encoded data removed]",
      "text/plain": [
       "<matplotlib.figure.Figure at 0x1a1ecb5550>"
      ]
     },
     "metadata": {},
     "output_type": "display_data"
    },
    {
     "data": {
      "image/png": "[encoded data removed]",
      "text/plain": [
       "<matplotlib.figure.Figure at 0x1a1f2956a0>"
      ]
     },
     "metadata": {},
     "output_type": "display_data"
    }
   ],
   "source": [
    "# We will plot our graphs.\n",
    "\n",
    "rev_df3.plot(kind='barh', y= 'revenue', x='director_count',legend = False,xlim= (0,1.7* 10**10))\n",
    "plt.ylabel(\"Director (Movie Count)\")\n",
    "plt.xlabel(\"Revenue (in 10 Billions, USD)\")\n",
    "plt.title(\"Top 10 Grossing Directors\",)\n",
    "\n",
    "rev_df3.plot(kind='barh', y= 'revenue_adj', x='director_count',legend = False, xlim= (0,1.7* 10**10))\n",
    "plt.ylabel(\"Director (Movie Count)\")\n",
    "plt.xlabel(\"Revenue Adjusted (in 10 Billions, USD)\")\n"
   ]
  },
  {
   "cell_type": "markdown",
   "metadata": {},
   "source": [
    "From a glance, we can make some clear observations.\n",
    "- We can see that many of the top grossing directors has filmed more than 10 films other than David Yates.\n",
    "    - David Yates only filmed independent and TV films prior to the Harry Potter series. So we can see that the success of the Harry Potter Series helped him become one of the top grossing directors in the industry. \n",
    "    \n",
    "- We can see that Steven Spielberg has grossed more than anyone in the filming industry. However, he also has the largest filmography among the directors.\n",
    "\n",
    "<a id='Question_4'></a>\n",
    "### Question 4 - What is the genre distribution?\n",
    "\n",
    "#### Data Preparation\n",
    "For this question, we will now look at the most frequent genres in the film industry. \n",
    "Like we mentioned in our data-wrangling process, the genres column uses '|' in order to separate the multiple values. \n",
    "We will perform additional data cleaning from the general dataframe. "
   ]
  },
  {
   "cell_type": "code",
   "execution_count": 18,
   "metadata": {},
   "outputs": [
    {
     "data": {
      "text/html": [
       "<div>\n",
       "<style scoped>\n",
       "    .dataframe tbody tr th:only-of-type {\n",
       "        vertical-align: middle;\n",
       "    }\n",
       "\n",
       "    .dataframe tbody tr th {\n",
       "        vertical-align: top;\n",
       "    }\n",
       "\n",
       "    .dataframe thead th {\n",
       "        text-align: right;\n",
       "    }\n",
       "</style>\n",
       "<table border=\"1\" class=\"dataframe\">\n",
       "  <thead>\n",
       "    <tr style=\"text-align: right;\">\n",
       "      <th></th>\n",
       "      <th>Genre</th>\n",
       "      <th>Genre_count</th>\n",
       "    </tr>\n",
       "  </thead>\n",
       "  <tbody>\n",
       "    <tr>\n",
       "      <th>0</th>\n",
       "      <td>Drama</td>\n",
       "      <td>4760</td>\n",
       "    </tr>\n",
       "    <tr>\n",
       "      <th>1</th>\n",
       "      <td>Comedy</td>\n",
       "      <td>3793</td>\n",
       "    </tr>\n",
       "    <tr>\n",
       "      <th>2</th>\n",
       "      <td>Thriller</td>\n",
       "      <td>2907</td>\n",
       "    </tr>\n",
       "    <tr>\n",
       "      <th>3</th>\n",
       "      <td>Action</td>\n",
       "      <td>2384</td>\n",
       "    </tr>\n",
       "    <tr>\n",
       "      <th>4</th>\n",
       "      <td>Romance</td>\n",
       "      <td>1712</td>\n",
       "    </tr>\n",
       "    <tr>\n",
       "      <th>5</th>\n",
       "      <td>Horror</td>\n",
       "      <td>1637</td>\n",
       "    </tr>\n",
       "    <tr>\n",
       "      <th>6</th>\n",
       "      <td>Adventure</td>\n",
       "      <td>1471</td>\n",
       "    </tr>\n",
       "    <tr>\n",
       "      <th>7</th>\n",
       "      <td>Crime</td>\n",
       "      <td>1354</td>\n",
       "    </tr>\n",
       "    <tr>\n",
       "      <th>8</th>\n",
       "      <td>Family</td>\n",
       "      <td>1231</td>\n",
       "    </tr>\n",
       "    <tr>\n",
       "      <th>9</th>\n",
       "      <td>Science Fiction</td>\n",
       "      <td>1229</td>\n",
       "    </tr>\n",
       "    <tr>\n",
       "      <th>10</th>\n",
       "      <td>Fantasy</td>\n",
       "      <td>916</td>\n",
       "    </tr>\n",
       "    <tr>\n",
       "      <th>11</th>\n",
       "      <td>Mystery</td>\n",
       "      <td>810</td>\n",
       "    </tr>\n",
       "    <tr>\n",
       "      <th>12</th>\n",
       "      <td>Animation</td>\n",
       "      <td>699</td>\n",
       "    </tr>\n",
       "    <tr>\n",
       "      <th>13</th>\n",
       "      <td>Documentary</td>\n",
       "      <td>520</td>\n",
       "    </tr>\n",
       "    <tr>\n",
       "      <th>14</th>\n",
       "      <td>Music</td>\n",
       "      <td>408</td>\n",
       "    </tr>\n",
       "    <tr>\n",
       "      <th>15</th>\n",
       "      <td>History</td>\n",
       "      <td>334</td>\n",
       "    </tr>\n",
       "    <tr>\n",
       "      <th>16</th>\n",
       "      <td>War</td>\n",
       "      <td>270</td>\n",
       "    </tr>\n",
       "    <tr>\n",
       "      <th>17</th>\n",
       "      <td>Foreign</td>\n",
       "      <td>188</td>\n",
       "    </tr>\n",
       "    <tr>\n",
       "      <th>18</th>\n",
       "      <td>TV Movie</td>\n",
       "      <td>167</td>\n",
       "    </tr>\n",
       "    <tr>\n",
       "      <th>19</th>\n",
       "      <td>Western</td>\n",
       "      <td>165</td>\n",
       "    </tr>\n",
       "  </tbody>\n",
       "</table>\n",
       "</div>"
      ],
      "text/plain": [
       "              Genre  Genre_count\n",
       "0             Drama         4760\n",
       "1            Comedy         3793\n",
       "2          Thriller         2907\n",
       "3            Action         2384\n",
       "4           Romance         1712\n",
       "5            Horror         1637\n",
       "6         Adventure         1471\n",
       "7             Crime         1354\n",
       "8            Family         1231\n",
       "9   Science Fiction         1229\n",
       "10          Fantasy          916\n",
       "11          Mystery          810\n",
       "12        Animation          699\n",
       "13      Documentary          520\n",
       "14            Music          408\n",
       "15          History          334\n",
       "16              War          270\n",
       "17          Foreign          188\n",
       "18         TV Movie          167\n",
       "19          Western          165"
      ]
     },
     "execution_count": 18,
     "metadata": {},
     "output_type": "execute_result"
    }
   ],
   "source": [
    "# We will create a copy of our original dataframe for directors count. \n",
    "df4_pre = df.copy()\n",
    "\n",
    "# We drop the null from the genres.\n",
    "df4_pre.dropna(subset=['genres'], inplace=True)\n",
    "df4 = df4_pre['genres']\n",
    "\n",
    "\n",
    "# We will use a dictionary to keep count of the unique genres.\n",
    "genre_count = dict()\n",
    "\n",
    "for x in df4:\n",
    "    genre_list = x.split('|')\n",
    "    for genre in genre_list:\n",
    "\n",
    "        if genre in genre_count:\n",
    "            genre_count[genre] += 1\n",
    "        else:\n",
    "            genre_count[genre] = 1\n",
    "\n",
    "# Convert the dictionary into a list and sort it based on its value.\n",
    "genre_count =sorted(genre_count.items(), key=lambda x: x[1], reverse= True)\n",
    "genre_df = pd.DataFrame(genre_count, columns=['Genre', 'Genre_count'])\n",
    "genre_df\n"
   ]
  },
  {
   "cell_type": "markdown",
   "metadata": {},
   "source": [
    "As we have around 20 unique types of genres, we think its best to use a pie chart to clearly visualize the distribution. Since 20 slices will be too much, we will keep the top 9 genres and combine the others into an 'others' category."
   ]
  },
  {
   "cell_type": "code",
   "execution_count": 19,
   "metadata": {},
   "outputs": [],
   "source": [
    "# Assign parameters\n",
    "topN = 9 \n",
    "other_count =0\n",
    "\n",
    "# Combine the others category\n",
    "for x in range(topN+1,len(genre_df)):\n",
    "    other_count += genre_df['Genre_count'][x]\n",
    "genre_other_df = pd.DataFrame([[\"Others\", other_count]], columns=['Genre', 'Genre_count'])\n",
    "\n",
    "# Concatenate the original date from up to the topN and append the others dataframe\n",
    "genre_df_conc = genre_df[:topN].append(genre_other_df, ignore_index=True)"
   ]
  },
  {
   "cell_type": "markdown",
   "metadata": {},
   "source": [
    "#### Data Visualization\n",
    "\n",
    "We will now make a pie chart and a table to see the individual counts of each unique genre."
   ]
  },
  {
   "cell_type": "code",
   "execution_count": 20,
   "metadata": {},
   "outputs": [
    {
     "data": {
      "image/png": "[encoded data removed]",
      "text/plain": [
       "<matplotlib.figure.Figure at 0x1a164d65f8>"
      ]
     },
     "metadata": {},
     "output_type": "display_data"
    }
   ],
   "source": [
    "# Create plot figure \n",
    "fig =plt.figure(figsize=(16,8))\n",
    "fig.suptitle(\"Movie Genre Distribution\", fontsize=20)\n",
    "\n",
    "# plot chart on subplot 1\n",
    "ax1 = plt.subplot(121, aspect='equal')\n",
    "genre_df_conc.plot(kind='pie', y = 'Genre_count', ax=ax1, autopct='%1.1f%%', labels=genre_df_conc['Genre'], legend = False)\n",
    "\n",
    "# removed the y-label that was intersecting with the pie labels.\n",
    "ax1.set_ylabel('')\n",
    "\n",
    "# plot table on subplot 2\n",
    "ax2 = plt.subplot(122)\n",
    "plt.axis('off')\n",
    "# Used original dataframe to show the whole list of unique genres\n",
    "tbl = pd.plotting.table(ax2, genre_df, loc='center')\n",
    "plt.show()"
   ]
  },
  {
   "cell_type": "markdown",
   "metadata": {},
   "source": [
    "This question is straight forward. The most popular movie genres were drama, comedy, thriller, action, and romance. \n",
    "\n",
    "<a id='conclusions'></a>\n",
    "## Conclusions\n",
    "### Overview of Investigation \n",
    "Through rigorous data examination, we were able to reach multiple conclusions about the questions we had about the dataset.\n",
    "- We found out the most popular movie titles and their revenue for each year\n",
    "- We found out the most popular movie titles and their revenue for each decade\n",
    "- We found out the most successful directors\n",
    "- We found out which movie genres were most frequent\n",
    "\n",
    "### Further Studies\n",
    "There were many more investigations that I wanted to make in the project. One question that I was going to further dwelve into was the frequent genre combinations. At first, I thought the data was in alphabetical order, so I was going to use an apriori algorithm to find the frequent itemsets. However, I found out that later on after finding errors in the apriori results that the was not in alphabetical order, so I was not able to perform apriori. If given extra time, I would sort each row's genre column by alphabetical order to test the algorithm.  \n",
    "\n",
    "\n"
   ]
  }
 ],
 "metadata": {
  "kernelspec": {
   "display_name": "Python 3",
   "language": "python",
   "name": "python3"
  },
  "language_info": {
   "codemirror_mode": {
    "name": "ipython",
    "version": 3
   },
   "file_extension": ".py",
   "mimetype": "text/x-python",
   "name": "python",
   "nbconvert_exporter": "python",
   "pygments_lexer": "ipython3",
   "version": "3.6.4"
  }
 },
 "nbformat": 4,
 "nbformat_minor": 2
}
